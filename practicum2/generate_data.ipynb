{
 "cells": [
  {
   "cell_type": "code",
   "execution_count": 1,
   "metadata": {},
   "outputs": [],
   "source": [
    "import pandas as pd\n",
    "import numpy as np\n",
    "import random\n",
    "\n",
    "from tqdm.notebook import tqdm"
   ]
  },
  {
   "cell_type": "code",
   "execution_count": 26,
   "metadata": {
    "scrolled": true
   },
   "outputs": [
    {
     "name": "stdout",
     "output_type": "stream",
     "text": [
      "Collecting ipywidgets\n",
      "  Downloading ipywidgets-8.0.4-py3-none-any.whl (137 kB)\n",
      "Collecting widgetsnbextension~=4.0\n",
      "  Downloading widgetsnbextension-4.0.5-py3-none-any.whl (2.0 MB)\n",
      "Requirement already satisfied: ipython>=6.1.0 in c:\\users\\wsu\\anaconda3\\envs\\env-main\\lib\\site-packages (from ipywidgets) (7.22.0)\n",
      "Requirement already satisfied: traitlets>=4.3.1 in c:\\users\\wsu\\anaconda3\\envs\\env-main\\lib\\site-packages (from ipywidgets) (5.0.5)\n",
      "Requirement already satisfied: ipykernel>=4.5.1 in c:\\users\\wsu\\anaconda3\\envs\\env-main\\lib\\site-packages (from ipywidgets) (5.3.4)\n",
      "Collecting jupyterlab-widgets~=3.0\n",
      "  Downloading jupyterlab_widgets-3.0.5-py3-none-any.whl (384 kB)\n",
      "Requirement already satisfied: tornado>=4.2 in c:\\users\\wsu\\anaconda3\\envs\\env-main\\lib\\site-packages (from ipykernel>=4.5.1->ipywidgets) (6.1)\n",
      "Requirement already satisfied: jupyter-client in c:\\users\\wsu\\anaconda3\\envs\\env-main\\lib\\site-packages (from ipykernel>=4.5.1->ipywidgets) (6.1.12)\n",
      "Requirement already satisfied: jedi>=0.16 in c:\\users\\wsu\\anaconda3\\envs\\env-main\\lib\\site-packages (from ipython>=6.1.0->ipywidgets) (0.17.0)\n",
      "Requirement already satisfied: pygments in c:\\users\\wsu\\anaconda3\\envs\\env-main\\lib\\site-packages (from ipython>=6.1.0->ipywidgets) (2.8.1)\n",
      "Requirement already satisfied: colorama in c:\\users\\wsu\\anaconda3\\envs\\env-main\\lib\\site-packages (from ipython>=6.1.0->ipywidgets) (0.4.4)\n",
      "Requirement already satisfied: backcall in c:\\users\\wsu\\anaconda3\\envs\\env-main\\lib\\site-packages (from ipython>=6.1.0->ipywidgets) (0.2.0)\n",
      "Requirement already satisfied: setuptools>=18.5 in c:\\users\\wsu\\anaconda3\\envs\\env-main\\lib\\site-packages (from ipython>=6.1.0->ipywidgets) (52.0.0.post20210125)\n",
      "Requirement already satisfied: decorator in c:\\users\\wsu\\anaconda3\\envs\\env-main\\lib\\site-packages (from ipython>=6.1.0->ipywidgets) (5.0.7)\n",
      "Requirement already satisfied: pickleshare in c:\\users\\wsu\\anaconda3\\envs\\env-main\\lib\\site-packages (from ipython>=6.1.0->ipywidgets) (0.7.5)\n",
      "Requirement already satisfied: prompt-toolkit!=3.0.0,!=3.0.1,<3.1.0,>=2.0.0 in c:\\users\\wsu\\anaconda3\\envs\\env-main\\lib\\site-packages (from ipython>=6.1.0->ipywidgets) (3.0.17)\n",
      "Requirement already satisfied: parso>=0.7.0 in c:\\users\\wsu\\anaconda3\\envs\\env-main\\lib\\site-packages (from jedi>=0.16->ipython>=6.1.0->ipywidgets) (0.8.2)\n",
      "Requirement already satisfied: wcwidth in c:\\users\\wsu\\anaconda3\\envs\\env-main\\lib\\site-packages (from prompt-toolkit!=3.0.0,!=3.0.1,<3.1.0,>=2.0.0->ipython>=6.1.0->ipywidgets) (0.2.5)\n",
      "Requirement already satisfied: ipython-genutils in c:\\users\\wsu\\anaconda3\\envs\\env-main\\lib\\site-packages (from traitlets>=4.3.1->ipywidgets) (0.2.0)\n",
      "Requirement already satisfied: jupyter-core>=4.6.0 in c:\\users\\wsu\\anaconda3\\envs\\env-main\\lib\\site-packages (from jupyter-client->ipykernel>=4.5.1->ipywidgets) (4.7.1)\n",
      "Requirement already satisfied: python-dateutil>=2.1 in c:\\users\\wsu\\anaconda3\\envs\\env-main\\lib\\site-packages (from jupyter-client->ipykernel>=4.5.1->ipywidgets) (2.8.1)\n",
      "Requirement already satisfied: pyzmq>=13 in c:\\users\\wsu\\anaconda3\\envs\\env-main\\lib\\site-packages (from jupyter-client->ipykernel>=4.5.1->ipywidgets) (20.0.0)\n",
      "Requirement already satisfied: pywin32>=1.0 in c:\\users\\wsu\\anaconda3\\envs\\env-main\\lib\\site-packages (from jupyter-core>=4.6.0->jupyter-client->ipykernel>=4.5.1->ipywidgets) (227)\n",
      "Requirement already satisfied: six>=1.5 in c:\\users\\wsu\\anaconda3\\envs\\env-main\\lib\\site-packages (from python-dateutil>=2.1->jupyter-client->ipykernel>=4.5.1->ipywidgets) (1.15.0)\n",
      "Installing collected packages: widgetsnbextension, jupyterlab-widgets, ipywidgets\n",
      "Successfully installed ipywidgets-8.0.4 jupyterlab-widgets-3.0.5 widgetsnbextension-4.0.5\n"
     ]
    }
   ],
   "source": [
    "# !pip install geopy\n",
    "!pip install ipywidgets\n",
    "\n",
    "from geopy.distance import geodesic"
   ]
  },
  {
   "cell_type": "code",
   "execution_count": 27,
   "metadata": {},
   "outputs": [],
   "source": [
    "import warnings\n",
    "warnings.filterwarnings('ignore')"
   ]
  },
  {
   "cell_type": "code",
   "execution_count": 28,
   "metadata": {},
   "outputs": [],
   "source": [
    "df = pd.read_csv(\"practicum2/data/london_postcodes.csv\", delimiter=',')"
   ]
  },
  {
   "cell_type": "code",
   "execution_count": 29,
   "metadata": {},
   "outputs": [
    {
     "data": {
      "text/plain": [
       "(327525, 53)"
      ]
     },
     "execution_count": 29,
     "metadata": {},
     "output_type": "execute_result"
    }
   ],
   "source": [
    "df.shape"
   ]
  },
  {
   "cell_type": "code",
   "execution_count": 30,
   "metadata": {},
   "outputs": [
    {
     "data": {
      "text/html": [
       "<div>\n",
       "<style scoped>\n",
       "    .dataframe tbody tr th:only-of-type {\n",
       "        vertical-align: middle;\n",
       "    }\n",
       "\n",
       "    .dataframe tbody tr th {\n",
       "        vertical-align: top;\n",
       "    }\n",
       "\n",
       "    .dataframe thead th {\n",
       "        text-align: right;\n",
       "    }\n",
       "</style>\n",
       "<table border=\"1\" class=\"dataframe\">\n",
       "  <thead>\n",
       "    <tr style=\"text-align: right;\">\n",
       "      <th></th>\n",
       "      <th>Postcode</th>\n",
       "      <th>In Use?</th>\n",
       "      <th>Latitude</th>\n",
       "      <th>Longitude</th>\n",
       "      <th>Easting</th>\n",
       "      <th>Northing</th>\n",
       "      <th>Grid Ref</th>\n",
       "      <th>County</th>\n",
       "      <th>District</th>\n",
       "      <th>Ward</th>\n",
       "      <th>...</th>\n",
       "      <th>Police force</th>\n",
       "      <th>Water company</th>\n",
       "      <th>Plus Code</th>\n",
       "      <th>Average Income</th>\n",
       "      <th>Sewage Company</th>\n",
       "      <th>Travel To Work Area</th>\n",
       "      <th>ITL level 2</th>\n",
       "      <th>ITL level 3</th>\n",
       "      <th>UPRNs</th>\n",
       "      <th>Distance to sea</th>\n",
       "    </tr>\n",
       "  </thead>\n",
       "  <tbody>\n",
       "    <tr>\n",
       "      <th>0</th>\n",
       "      <td>BR1 1AA</td>\n",
       "      <td>Yes</td>\n",
       "      <td>51.401546</td>\n",
       "      <td>0.015415</td>\n",
       "      <td>540291</td>\n",
       "      <td>168873</td>\n",
       "      <td>TQ402688</td>\n",
       "      <td>Greater London</td>\n",
       "      <td>Bromley</td>\n",
       "      <td>Bromley Town</td>\n",
       "      <td>...</td>\n",
       "      <td>Metropolitan Police</td>\n",
       "      <td>Thames Water</td>\n",
       "      <td>9F32C228+J5</td>\n",
       "      <td>63100</td>\n",
       "      <td>NaN</td>\n",
       "      <td>London</td>\n",
       "      <td>Outer London - South</td>\n",
       "      <td>Bromley</td>\n",
       "      <td>10070014435,10070014436,10070014437,1007001443...</td>\n",
       "      <td>28.0730</td>\n",
       "    </tr>\n",
       "    <tr>\n",
       "      <th>1</th>\n",
       "      <td>BR1 1AB</td>\n",
       "      <td>Yes</td>\n",
       "      <td>51.406333</td>\n",
       "      <td>0.015208</td>\n",
       "      <td>540262</td>\n",
       "      <td>169405</td>\n",
       "      <td>TQ402694</td>\n",
       "      <td>Greater London</td>\n",
       "      <td>Bromley</td>\n",
       "      <td>Bromley Town</td>\n",
       "      <td>...</td>\n",
       "      <td>Metropolitan Police</td>\n",
       "      <td>Thames Water</td>\n",
       "      <td>9F32C248+G3</td>\n",
       "      <td>56100</td>\n",
       "      <td>NaN</td>\n",
       "      <td>London</td>\n",
       "      <td>Outer London - South</td>\n",
       "      <td>Bromley</td>\n",
       "      <td>10070008860,10070008861,10070008862,1007000886...</td>\n",
       "      <td>27.9776</td>\n",
       "    </tr>\n",
       "    <tr>\n",
       "      <th>2</th>\n",
       "      <td>BR1 1AD</td>\n",
       "      <td>No</td>\n",
       "      <td>51.400057</td>\n",
       "      <td>0.016715</td>\n",
       "      <td>540386</td>\n",
       "      <td>168710</td>\n",
       "      <td>TQ403687</td>\n",
       "      <td>Greater London</td>\n",
       "      <td>Bromley</td>\n",
       "      <td>Bromley Town</td>\n",
       "      <td>...</td>\n",
       "      <td>Metropolitan Police</td>\n",
       "      <td>NaN</td>\n",
       "      <td>9F32C228+2M</td>\n",
       "      <td>63100</td>\n",
       "      <td>NaN</td>\n",
       "      <td>London</td>\n",
       "      <td>Outer London - South</td>\n",
       "      <td>Bromley</td>\n",
       "      <td>NaN</td>\n",
       "      <td>28.0211</td>\n",
       "    </tr>\n",
       "    <tr>\n",
       "      <th>3</th>\n",
       "      <td>BR1 1AE</td>\n",
       "      <td>Yes</td>\n",
       "      <td>51.404543</td>\n",
       "      <td>0.014195</td>\n",
       "      <td>540197</td>\n",
       "      <td>169204</td>\n",
       "      <td>TQ401692</td>\n",
       "      <td>Greater London</td>\n",
       "      <td>Bromley</td>\n",
       "      <td>Bromley Town</td>\n",
       "      <td>...</td>\n",
       "      <td>Metropolitan Police</td>\n",
       "      <td>Thames Water</td>\n",
       "      <td>9F32C237+RM</td>\n",
       "      <td>63100</td>\n",
       "      <td>NaN</td>\n",
       "      <td>London</td>\n",
       "      <td>Outer London - South</td>\n",
       "      <td>Bromley</td>\n",
       "      <td>10003640209,10070000614,10070002658,1007000265...</td>\n",
       "      <td>28.0861</td>\n",
       "    </tr>\n",
       "    <tr>\n",
       "      <th>4</th>\n",
       "      <td>BR1 1AF</td>\n",
       "      <td>Yes</td>\n",
       "      <td>51.401392</td>\n",
       "      <td>0.014948</td>\n",
       "      <td>540259</td>\n",
       "      <td>168855</td>\n",
       "      <td>TQ402688</td>\n",
       "      <td>Greater London</td>\n",
       "      <td>Bromley</td>\n",
       "      <td>Bromley Town</td>\n",
       "      <td>...</td>\n",
       "      <td>Metropolitan Police</td>\n",
       "      <td>Thames Water</td>\n",
       "      <td>9F32C227+HX</td>\n",
       "      <td>63100</td>\n",
       "      <td>NaN</td>\n",
       "      <td>London</td>\n",
       "      <td>Outer London - South</td>\n",
       "      <td>Bromley</td>\n",
       "      <td>10070014484,10070014485,10070014486,1007001448...</td>\n",
       "      <td>28.1083</td>\n",
       "    </tr>\n",
       "  </tbody>\n",
       "</table>\n",
       "<p>5 rows × 53 columns</p>\n",
       "</div>"
      ],
      "text/plain": [
       "  Postcode In Use?   Latitude  Longitude  Easting  Northing  Grid Ref  \\\n",
       "0  BR1 1AA     Yes  51.401546   0.015415   540291    168873  TQ402688   \n",
       "1  BR1 1AB     Yes  51.406333   0.015208   540262    169405  TQ402694   \n",
       "2  BR1 1AD      No  51.400057   0.016715   540386    168710  TQ403687   \n",
       "3  BR1 1AE     Yes  51.404543   0.014195   540197    169204  TQ401692   \n",
       "4  BR1 1AF     Yes  51.401392   0.014948   540259    168855  TQ402688   \n",
       "\n",
       "           County District          Ward  ...         Police force  \\\n",
       "0  Greater London  Bromley  Bromley Town  ...  Metropolitan Police   \n",
       "1  Greater London  Bromley  Bromley Town  ...  Metropolitan Police   \n",
       "2  Greater London  Bromley  Bromley Town  ...  Metropolitan Police   \n",
       "3  Greater London  Bromley  Bromley Town  ...  Metropolitan Police   \n",
       "4  Greater London  Bromley  Bromley Town  ...  Metropolitan Police   \n",
       "\n",
       "  Water company    Plus Code Average Income Sewage Company  \\\n",
       "0  Thames Water  9F32C228+J5          63100            NaN   \n",
       "1  Thames Water  9F32C248+G3          56100            NaN   \n",
       "2           NaN  9F32C228+2M          63100            NaN   \n",
       "3  Thames Water  9F32C237+RM          63100            NaN   \n",
       "4  Thames Water  9F32C227+HX          63100            NaN   \n",
       "\n",
       "  Travel To Work Area           ITL level 2 ITL level 3  \\\n",
       "0              London  Outer London - South     Bromley   \n",
       "1              London  Outer London - South     Bromley   \n",
       "2              London  Outer London - South     Bromley   \n",
       "3              London  Outer London - South     Bromley   \n",
       "4              London  Outer London - South     Bromley   \n",
       "\n",
       "                                               UPRNs  Distance to sea  \n",
       "0  10070014435,10070014436,10070014437,1007001443...          28.0730  \n",
       "1  10070008860,10070008861,10070008862,1007000886...          27.9776  \n",
       "2                                                NaN          28.0211  \n",
       "3  10003640209,10070000614,10070002658,1007000265...          28.0861  \n",
       "4  10070014484,10070014485,10070014486,1007001448...          28.1083  \n",
       "\n",
       "[5 rows x 53 columns]"
      ]
     },
     "execution_count": 30,
     "metadata": {},
     "output_type": "execute_result"
    }
   ],
   "source": [
    "df.head()"
   ]
  },
  {
   "cell_type": "code",
   "execution_count": 31,
   "metadata": {},
   "outputs": [
    {
     "name": "stdout",
     "output_type": "stream",
     "text": [
      "<class 'pandas.core.frame.DataFrame'>\n",
      "RangeIndex: 327525 entries, 0 to 327524\n",
      "Data columns (total 53 columns):\n",
      " #   Column                          Non-Null Count   Dtype  \n",
      "---  ------                          --------------   -----  \n",
      " 0   Postcode                        327525 non-null  object \n",
      " 1   In Use?                         327525 non-null  object \n",
      " 2   Latitude                        327525 non-null  float64\n",
      " 3   Longitude                       327525 non-null  float64\n",
      " 4   Easting                         327525 non-null  int64  \n",
      " 5   Northing                        327525 non-null  int64  \n",
      " 6   Grid Ref                        327525 non-null  object \n",
      " 7   County                          327525 non-null  object \n",
      " 8   District                        327525 non-null  object \n",
      " 9   Ward                            327525 non-null  object \n",
      " 10  District Code                   327525 non-null  object \n",
      " 11  Ward Code                       327525 non-null  object \n",
      " 12  Country                         327525 non-null  object \n",
      " 13  County Code                     327525 non-null  object \n",
      " 14  Constituency                    327525 non-null  object \n",
      " 15  Introduced                      327525 non-null  object \n",
      " 16  Terminated                      147038 non-null  object \n",
      " 17  Parish                          327525 non-null  object \n",
      " 18  National Park                   0 non-null       float64\n",
      " 19  Population                      140850 non-null  float64\n",
      " 20  Households                      140850 non-null  float64\n",
      " 21  Built up area                   325751 non-null  object \n",
      " 22  Built up sub-division           325399 non-null  object \n",
      " 23  Lower layer super output area   327525 non-null  object \n",
      " 24  Rural/urban                     327525 non-null  object \n",
      " 25  Region                          327525 non-null  object \n",
      " 26  Altitude                        327525 non-null  int64  \n",
      " 27  London zone                     327525 non-null  int64  \n",
      " 28  LSOA Code                       327525 non-null  object \n",
      " 29  Local authority                 0 non-null       float64\n",
      " 30  MSOA Code                       327525 non-null  object \n",
      " 31  Middle layer super output area  327525 non-null  object \n",
      " 32  Parish Code                     327525 non-null  object \n",
      " 33  Census output area              327525 non-null  object \n",
      " 34  Constituency Code               327525 non-null  object \n",
      " 35  Index of Multiple Deprivation   327525 non-null  int64  \n",
      " 36  Quality                         327525 non-null  int64  \n",
      " 37  User Type                       327525 non-null  int64  \n",
      " 38  Last updated                    327525 non-null  object \n",
      " 39  Nearest station                 327525 non-null  object \n",
      " 40  Distance to station             327525 non-null  float64\n",
      " 41  Postcode area                   327525 non-null  object \n",
      " 42  Postcode district               327525 non-null  object \n",
      " 43  Police force                    327525 non-null  object \n",
      " 44  Water company                   185031 non-null  object \n",
      " 45  Plus Code                       327525 non-null  object \n",
      " 46  Average Income                  327525 non-null  int64  \n",
      " 47  Sewage Company                  40063 non-null   object \n",
      " 48  Travel To Work Area             327525 non-null  object \n",
      " 49  ITL level 2                     327525 non-null  object \n",
      " 50  ITL level 3                     327525 non-null  object \n",
      " 51  UPRNs                           176246 non-null  object \n",
      " 52  Distance to sea                 327525 non-null  float64\n",
      "dtypes: float64(8), int64(8), object(37)\n",
      "memory usage: 132.4+ MB\n"
     ]
    }
   ],
   "source": [
    "df.info()"
   ]
  },
  {
   "cell_type": "code",
   "execution_count": 32,
   "metadata": {},
   "outputs": [],
   "source": [
    "rides = pd.DataFrame(columns=['driver_id', 'client_id',\\\n",
    "                              'start', 'start_latitude', 'start_longtitude', \\\n",
    "                              'finish', 'finish_latitude', 'finish_longtitude', \\\n",
    "                              'distance', 'road_time', 'start_time', 'finish_time', 'cost', \\\n",
    "                              'driver_rate', 'category_driver_feedback', 'text_driver_feedback',\\\n",
    "                             'client_rate', 'category_client_feedback', 'text_client_feedback'])\n",
    "NUM_RIDES = 5000000"
   ]
  },
  {
   "cell_type": "markdown",
   "metadata": {},
   "source": [
    "Drivers and clients id's"
   ]
  },
  {
   "cell_type": "code",
   "execution_count": 33,
   "metadata": {},
   "outputs": [],
   "source": [
    "rides['driver_id'] = np.random.randint(low=0, high=2500, size=NUM_RIDES)\n",
    "rides['client_id'] = np.random.randint(low=0, high=4500, size=NUM_RIDES)"
   ]
  },
  {
   "cell_type": "markdown",
   "metadata": {},
   "source": [
    "Start and finish points"
   ]
  },
  {
   "cell_type": "code",
   "execution_count": 34,
   "metadata": {},
   "outputs": [],
   "source": [
    "rides[['start', 'start_latitude', 'start_longtitude']] = df[['Postcode', 'Latitude', 'Longitude']].sample(n=NUM_RIDES, replace=True).reset_index(drop=True)"
   ]
  },
  {
   "cell_type": "code",
   "execution_count": 35,
   "metadata": {},
   "outputs": [],
   "source": [
    "rides[['finish', 'finish_latitude', 'finish_longtitude']] = df[['Postcode', 'Latitude', 'Longitude']].sample(n=NUM_RIDES, replace=True).reset_index(drop=True)"
   ]
  },
  {
   "cell_type": "markdown",
   "metadata": {},
   "source": [
    "Start time"
   ]
  },
  {
   "cell_type": "code",
   "execution_count": 36,
   "metadata": {},
   "outputs": [],
   "source": [
    "def random_dates(start, end, n=10):\n",
    "    start_u = start.value//10**9\n",
    "    end_u = end.value//10**9\n",
    "    return pd.to_datetime(np.random.randint(start_u, end_u, n), unit='s')\n",
    "\n",
    "start = pd.to_datetime('2010-01-01')\n",
    "end = pd.to_datetime('2020-01-01')\n",
    "rides['start_time'] = random_dates(start, end, NUM_RIDES)"
   ]
  },
  {
   "cell_type": "markdown",
   "metadata": {},
   "source": [
    "Distance between start and finish points"
   ]
  },
  {
   "cell_type": "code",
   "execution_count": 38,
   "metadata": {},
   "outputs": [],
   "source": [
    "rides['distance'] = [geodesic((x1, y1), (x2, y2)).km for x1, y1, x2, y2 in zip(rides['start_latitude'], \\\n",
    "                                                                                              rides['start_longtitude'], \\\n",
    "                                                                                              rides['finish_latitude'], \\\n",
    "                                                                                              rides['finish_longtitude'])]\n",
    "rides['distance'] = rides['distance'].round(2)"
   ]
  },
  {
   "cell_type": "markdown",
   "metadata": {},
   "source": [
    "Calculate road time"
   ]
  },
  {
   "cell_type": "code",
   "execution_count": 39,
   "metadata": {},
   "outputs": [],
   "source": [
    "rides['road_time'] = abs(np.random.normal(size=NUM_RIDES, scale=10)) + rides['distance'] * abs(np.random.normal(size=NUM_RIDES, loc=1, scale=0.25))\n",
    "rides['road_time'] = rides['road_time'].astype('int')\n",
    "rides['road_time'] = pd.to_timedelta(rides['road_time'], unit='m')"
   ]
  },
  {
   "cell_type": "markdown",
   "metadata": {},
   "source": [
    "Calculate finish time"
   ]
  },
  {
   "cell_type": "code",
   "execution_count": 40,
   "metadata": {},
   "outputs": [],
   "source": [
    "rides['finish_time'] = rides['start_time'] + rides['road_time']"
   ]
  },
  {
   "cell_type": "markdown",
   "metadata": {},
   "source": [
    "Calculate cost of the ride"
   ]
  },
  {
   "cell_type": "code",
   "execution_count": 43,
   "metadata": {},
   "outputs": [
    {
     "name": "stderr",
     "output_type": "stream",
     "text": [
      "Exception ignored in: <function tqdm.__del__ at 0x00000245251845E0>\n",
      "Traceback (most recent call last):\n",
      "  File \"c:\\Users\\wsu\\anaconda3\\envs\\env-main\\lib\\site-packages\\tqdm\\std.py\", line 1147, in __del__\n",
      "    self.close()\n",
      "  File \"c:\\Users\\wsu\\anaconda3\\envs\\env-main\\lib\\site-packages\\tqdm\\notebook.py\", line 286, in close\n",
      "    self.disp(bar_style='danger', check_delay=False)\n",
      "AttributeError: 'tqdm_notebook' object has no attribute 'disp'\n"
     ]
    }
   ],
   "source": [
    "def count_cost(start_time, distance):\n",
    "    cost = 2 + 0.5 * distance\n",
    "    if (start_time.hour >= 8 and start_time.hour <= 9) or \\\n",
    "        (start_time.hour >= 18 and start_time.hour <= 19):\n",
    "        cost *= 1.5\n",
    "    if (start_time.hour >= 22 or start_time.hour <= 6):\n",
    "        cost *= 1.3\n",
    "    return cost\n",
    "    \n",
    "rides['cost'] = [count_cost(s, d) for s, d in zip(rides.start_time, rides.distance)]\n",
    "rides['cost'] = rides['cost'].round(2)"
   ]
  },
  {
   "cell_type": "markdown",
   "metadata": {},
   "source": [
    "Drivers rates"
   ]
  },
  {
   "cell_type": "code",
   "execution_count": 44,
   "metadata": {},
   "outputs": [],
   "source": [
    "driver_rate_idx = np.random.randint(low=0, high=NUM_RIDES, size=int(NUM_RIDES*0.3))\n",
    "driver_rate_distribution_arr = np.random.multinomial(1, [0.2, 0.05, 0.1, 0.25, 0.4], size=int(NUM_RIDES*0.3))\n",
    "rides['driver_rate'][driver_rate_idx] = np.where(driver_rate_distribution_arr == 1)[1] + 1"
   ]
  },
  {
   "cell_type": "code",
   "execution_count": 45,
   "metadata": {},
   "outputs": [],
   "source": [
    "driver_feedback_categories_good = ['great service', 'nice car', 'wonderful companion', 'neat and tidy', 'expert navigation', 'recommend']\n",
    "driver_feedback_categories_bad = ['awful service', 'bad car', 'unpleasant companion', 'dirty', 'non-expert navigation', 'not recommend']"
   ]
  },
  {
   "cell_type": "code",
   "execution_count": 46,
   "metadata": {},
   "outputs": [],
   "source": [
    "category_driver_good_feedback_idx = np.random.choice(rides[rides.driver_rate > 3].index, size=int(NUM_RIDES*0.3*0.2))\n",
    "rides[\"category_driver_feedback\"][category_driver_good_feedback_idx] = np.random.choice(driver_feedback_categories_good, size=int(NUM_RIDES*0.3*0.2))\n",
    "\n",
    "category_driver_bad_feedback_idx = np.random.choice(rides[rides.driver_rate < 4].index, size=int(NUM_RIDES*0.3*0.2))\n",
    "rides[\"category_driver_feedback\"][category_driver_bad_feedback_idx] = np.random.choice(driver_feedback_categories_bad, size=int(NUM_RIDES*0.3*0.2))"
   ]
  },
  {
   "cell_type": "code",
   "execution_count": 47,
   "metadata": {},
   "outputs": [],
   "source": [
    "text_good_feedback_driver_length = np.random.randint(low=0, high=7, size=int(NUM_RIDES*0.3*0.2))\n",
    "text_good_feedback_driver_sample = [random.sample(driver_feedback_categories_good, i) for i in text_good_feedback_driver_length]\n",
    "rides['text_driver_feedback'][category_driver_good_feedback_idx] = text_good_feedback_driver_sample\n",
    "\n",
    "text_bad_feedback_driver_length = np.random.randint(low=0, high=7, size=int(NUM_RIDES*0.3*0.2))\n",
    "text_bad_feedback_driver_sample = [random.sample(driver_feedback_categories_bad, i) for i in text_bad_feedback_driver_length]\n",
    "rides['text_driver_feedback'][category_driver_bad_feedback_idx] = text_bad_feedback_driver_sample"
   ]
  },
  {
   "cell_type": "markdown",
   "metadata": {},
   "source": [
    "Clients rates"
   ]
  },
  {
   "cell_type": "code",
   "execution_count": 48,
   "metadata": {},
   "outputs": [],
   "source": [
    "client_rate_idx = np.random.randint(low=0, high=NUM_RIDES, size=int(NUM_RIDES*0.5))\n",
    "client_rate_distribution_arr = np.random.multinomial(1, [0.2, 0.05, 0.1, 0.25, 0.4], size=int(NUM_RIDES*0.5))\n",
    "rides['client_rate'][client_rate_idx] = np.where(client_rate_distribution_arr == 1)[1] + 1"
   ]
  },
  {
   "cell_type": "code",
   "execution_count": 49,
   "metadata": {},
   "outputs": [],
   "source": [
    "client_feedback_categories_good = ['polite', 'pleasant', 'quiet', 'neat and tidy', 'recommend']\n",
    "client_feedback_categories_bad = ['unpolite', 'unpleasant', 'loud', 'dirty','not recommend']"
   ]
  },
  {
   "cell_type": "code",
   "execution_count": 50,
   "metadata": {},
   "outputs": [],
   "source": [
    "category_client_good_feedback_idx = np.random.choice(rides[rides.client_rate > 3].index, size=int(NUM_RIDES*0.3*0.2))\n",
    "rides[\"category_client_feedback\"][category_client_good_feedback_idx] = np.random.choice(client_feedback_categories_good, size=int(NUM_RIDES*0.3*0.2))\n",
    "\n",
    "category_client_bad_feedback_idx = np.random.choice(rides[rides.client_rate < 4].index, size=int(NUM_RIDES*0.3*0.2))\n",
    "rides[\"category_client_feedback\"][category_client_bad_feedback_idx] = np.random.choice(client_feedback_categories_bad, size=int(NUM_RIDES*0.3*0.2))"
   ]
  },
  {
   "cell_type": "code",
   "execution_count": 51,
   "metadata": {},
   "outputs": [],
   "source": [
    "text_good_feedback_client_length = np.random.randint(low=0, high=6, size=int(NUM_RIDES*0.3*0.2))\n",
    "text_good_feedback_client_sample = [random.sample(client_feedback_categories_good, i) for i in text_good_feedback_client_length]\n",
    "rides['text_client_feedback'][category_client_good_feedback_idx] = text_good_feedback_client_sample\n",
    "\n",
    "text_bad_feedback_client_length = np.random.randint(low=0, high=6, size=int(NUM_RIDES*0.3*0.2))\n",
    "text_bad_feedback_client_sample = [random.sample(client_feedback_categories_good, i) for i in text_bad_feedback_client_length]\n",
    "rides['text_client_feedback'][category_client_good_feedback_idx] = text_bad_feedback_client_sample"
   ]
  },
  {
   "cell_type": "code",
   "execution_count": 52,
   "metadata": {},
   "outputs": [
    {
     "data": {
      "text/html": [
       "<div>\n",
       "<style scoped>\n",
       "    .dataframe tbody tr th:only-of-type {\n",
       "        vertical-align: middle;\n",
       "    }\n",
       "\n",
       "    .dataframe tbody tr th {\n",
       "        vertical-align: top;\n",
       "    }\n",
       "\n",
       "    .dataframe thead th {\n",
       "        text-align: right;\n",
       "    }\n",
       "</style>\n",
       "<table border=\"1\" class=\"dataframe\">\n",
       "  <thead>\n",
       "    <tr style=\"text-align: right;\">\n",
       "      <th></th>\n",
       "      <th>driver_id</th>\n",
       "      <th>client_id</th>\n",
       "      <th>start</th>\n",
       "      <th>start_latitude</th>\n",
       "      <th>start_longtitude</th>\n",
       "      <th>finish</th>\n",
       "      <th>finish_latitude</th>\n",
       "      <th>finish_longtitude</th>\n",
       "      <th>distance</th>\n",
       "      <th>road_time</th>\n",
       "      <th>start_time</th>\n",
       "      <th>finish_time</th>\n",
       "      <th>cost</th>\n",
       "      <th>driver_rate</th>\n",
       "      <th>category_driver_feedback</th>\n",
       "      <th>text_driver_feedback</th>\n",
       "      <th>client_rate</th>\n",
       "      <th>category_client_feedback</th>\n",
       "      <th>text_client_feedback</th>\n",
       "    </tr>\n",
       "  </thead>\n",
       "  <tbody>\n",
       "    <tr>\n",
       "      <th>0</th>\n",
       "      <td>263</td>\n",
       "      <td>4164</td>\n",
       "      <td>CR8 2EQ</td>\n",
       "      <td>51.328882</td>\n",
       "      <td>-0.111292</td>\n",
       "      <td>SW14 7ES</td>\n",
       "      <td>51.466422</td>\n",
       "      <td>-0.267102</td>\n",
       "      <td>18.75</td>\n",
       "      <td>0 days 00:19:00</td>\n",
       "      <td>2012-07-02 15:19:14</td>\n",
       "      <td>2012-07-02 15:38:14</td>\n",
       "      <td>11.38</td>\n",
       "      <td>5</td>\n",
       "      <td>NaN</td>\n",
       "      <td>NaN</td>\n",
       "      <td>5</td>\n",
       "      <td>NaN</td>\n",
       "      <td>NaN</td>\n",
       "    </tr>\n",
       "    <tr>\n",
       "      <th>1</th>\n",
       "      <td>271</td>\n",
       "      <td>2153</td>\n",
       "      <td>SE15 6XL</td>\n",
       "      <td>51.471766</td>\n",
       "      <td>-0.070925</td>\n",
       "      <td>SW9 7SH</td>\n",
       "      <td>51.469102</td>\n",
       "      <td>-0.106630</td>\n",
       "      <td>2.50</td>\n",
       "      <td>0 days 00:14:00</td>\n",
       "      <td>2015-08-02 09:02:38</td>\n",
       "      <td>2015-08-02 09:16:38</td>\n",
       "      <td>4.88</td>\n",
       "      <td>1</td>\n",
       "      <td>NaN</td>\n",
       "      <td>NaN</td>\n",
       "      <td>NaN</td>\n",
       "      <td>NaN</td>\n",
       "      <td>NaN</td>\n",
       "    </tr>\n",
       "    <tr>\n",
       "      <th>2</th>\n",
       "      <td>1288</td>\n",
       "      <td>2624</td>\n",
       "      <td>SW3 2ET</td>\n",
       "      <td>51.496215</td>\n",
       "      <td>-0.168982</td>\n",
       "      <td>E17 5RL</td>\n",
       "      <td>51.593946</td>\n",
       "      <td>-0.031810</td>\n",
       "      <td>14.45</td>\n",
       "      <td>0 days 00:27:00</td>\n",
       "      <td>2014-01-21 11:15:26</td>\n",
       "      <td>2014-01-21 11:42:26</td>\n",
       "      <td>9.22</td>\n",
       "      <td>NaN</td>\n",
       "      <td>NaN</td>\n",
       "      <td>NaN</td>\n",
       "      <td>NaN</td>\n",
       "      <td>NaN</td>\n",
       "      <td>NaN</td>\n",
       "    </tr>\n",
       "    <tr>\n",
       "      <th>3</th>\n",
       "      <td>821</td>\n",
       "      <td>2717</td>\n",
       "      <td>N16 5GZ</td>\n",
       "      <td>51.567659</td>\n",
       "      <td>-0.073420</td>\n",
       "      <td>CR2 3NA</td>\n",
       "      <td>51.342160</td>\n",
       "      <td>-0.130647</td>\n",
       "      <td>25.40</td>\n",
       "      <td>0 days 00:26:00</td>\n",
       "      <td>2012-11-09 16:47:47</td>\n",
       "      <td>2012-11-09 17:13:47</td>\n",
       "      <td>14.70</td>\n",
       "      <td>NaN</td>\n",
       "      <td>NaN</td>\n",
       "      <td>NaN</td>\n",
       "      <td>5</td>\n",
       "      <td>quiet</td>\n",
       "      <td>[recommend]</td>\n",
       "    </tr>\n",
       "    <tr>\n",
       "      <th>4</th>\n",
       "      <td>1292</td>\n",
       "      <td>1709</td>\n",
       "      <td>IG3 8BE</td>\n",
       "      <td>51.562887</td>\n",
       "      <td>0.095850</td>\n",
       "      <td>SW1V 2WB</td>\n",
       "      <td>51.496429</td>\n",
       "      <td>-0.137437</td>\n",
       "      <td>17.80</td>\n",
       "      <td>0 days 00:26:00</td>\n",
       "      <td>2017-12-28 11:24:50</td>\n",
       "      <td>2017-12-28 11:50:50</td>\n",
       "      <td>10.90</td>\n",
       "      <td>NaN</td>\n",
       "      <td>NaN</td>\n",
       "      <td>NaN</td>\n",
       "      <td>NaN</td>\n",
       "      <td>NaN</td>\n",
       "      <td>NaN</td>\n",
       "    </tr>\n",
       "  </tbody>\n",
       "</table>\n",
       "</div>"
      ],
      "text/plain": [
       "   driver_id  client_id     start  start_latitude  start_longtitude    finish  \\\n",
       "0        263       4164   CR8 2EQ       51.328882         -0.111292  SW14 7ES   \n",
       "1        271       2153  SE15 6XL       51.471766         -0.070925   SW9 7SH   \n",
       "2       1288       2624   SW3 2ET       51.496215         -0.168982   E17 5RL   \n",
       "3        821       2717   N16 5GZ       51.567659         -0.073420   CR2 3NA   \n",
       "4       1292       1709   IG3 8BE       51.562887          0.095850  SW1V 2WB   \n",
       "\n",
       "   finish_latitude  finish_longtitude  distance       road_time  \\\n",
       "0        51.466422          -0.267102     18.75 0 days 00:19:00   \n",
       "1        51.469102          -0.106630      2.50 0 days 00:14:00   \n",
       "2        51.593946          -0.031810     14.45 0 days 00:27:00   \n",
       "3        51.342160          -0.130647     25.40 0 days 00:26:00   \n",
       "4        51.496429          -0.137437     17.80 0 days 00:26:00   \n",
       "\n",
       "           start_time         finish_time   cost driver_rate  \\\n",
       "0 2012-07-02 15:19:14 2012-07-02 15:38:14  11.38           5   \n",
       "1 2015-08-02 09:02:38 2015-08-02 09:16:38   4.88           1   \n",
       "2 2014-01-21 11:15:26 2014-01-21 11:42:26   9.22         NaN   \n",
       "3 2012-11-09 16:47:47 2012-11-09 17:13:47  14.70         NaN   \n",
       "4 2017-12-28 11:24:50 2017-12-28 11:50:50  10.90         NaN   \n",
       "\n",
       "  category_driver_feedback text_driver_feedback client_rate  \\\n",
       "0                      NaN                  NaN           5   \n",
       "1                      NaN                  NaN         NaN   \n",
       "2                      NaN                  NaN         NaN   \n",
       "3                      NaN                  NaN           5   \n",
       "4                      NaN                  NaN         NaN   \n",
       "\n",
       "  category_client_feedback text_client_feedback  \n",
       "0                      NaN                  NaN  \n",
       "1                      NaN                  NaN  \n",
       "2                      NaN                  NaN  \n",
       "3                    quiet          [recommend]  \n",
       "4                      NaN                  NaN  "
      ]
     },
     "execution_count": 52,
     "metadata": {},
     "output_type": "execute_result"
    }
   ],
   "source": [
    "rides.head()"
   ]
  },
  {
   "cell_type": "code",
   "execution_count": 53,
   "metadata": {},
   "outputs": [],
   "source": [
    "rides.to_csv(\"practicum2/data/rides.csv\")"
   ]
  }
 ],
 "metadata": {
  "kernelspec": {
   "display_name": "Python 3.8.8 ('env-main')",
   "language": "python",
   "name": "python3"
  },
  "language_info": {
   "codemirror_mode": {
    "name": "ipython",
    "version": 3
   },
   "file_extension": ".py",
   "mimetype": "text/x-python",
   "name": "python",
   "nbconvert_exporter": "python",
   "pygments_lexer": "ipython3",
   "version": "3.8.8"
  },
  "vscode": {
   "interpreter": {
    "hash": "7e992fa834b3be75fee7f9913966d7caa50411f30ce13aa9acbf84185fd0dd6f"
   }
  }
 },
 "nbformat": 4,
 "nbformat_minor": 4
}
